{
 "cells": [
  {
   "cell_type": "code",
   "execution_count": 2,
   "metadata": {
    "execution": {
     "iopub.execute_input": "2021-06-09T10:31:55.868373Z",
     "iopub.status.busy": "2021-06-09T10:31:55.868008Z",
     "iopub.status.idle": "2021-06-09T10:31:56.677088Z",
     "shell.execute_reply": "2021-06-09T10:31:56.676232Z",
     "shell.execute_reply.started": "2021-06-09T10:31:55.868340Z"
    },
    "id": "FElIILM-QdTH"
   },
   "outputs": [],
   "source": [
    "import numpy as np\n",
    "import pandas as pd\n",
    "import torch\n",
    "import transformers as ppb # pytorch transformers\n",
    "\n",
    "from torch import nn\n",
    "import torch.optim as optim\n",
    "from sklearn.model_selection import train_test_split"
   ]
  },
  {
   "cell_type": "code",
   "execution_count": 3,
   "metadata": {
    "execution": {
     "iopub.execute_input": "2021-06-09T10:31:56.678938Z",
     "iopub.status.busy": "2021-06-09T10:31:56.678615Z",
     "iopub.status.idle": "2021-06-09T10:31:56.706615Z",
     "shell.execute_reply": "2021-06-09T10:31:56.705325Z",
     "shell.execute_reply.started": "2021-06-09T10:31:56.678899Z"
    },
    "id": "4Zi3Ich33K81"
   },
   "outputs": [],
   "source": [
    "if torch.cuda.is_available():\n",
    "    torch.set_default_tensor_type('torch.cuda.FloatTensor')"
   ]
  },
  {
   "cell_type": "code",
   "execution_count": 4,
   "metadata": {
    "execution": {
     "iopub.execute_input": "2021-06-09T10:31:56.708604Z",
     "iopub.status.busy": "2021-06-09T10:31:56.708088Z",
     "iopub.status.idle": "2021-06-09T10:32:01.910230Z",
     "shell.execute_reply": "2021-06-09T10:32:01.909406Z",
     "shell.execute_reply.started": "2021-06-09T10:31:56.708556Z"
    },
    "id": "8ilYYppXhLDD"
   },
   "outputs": [],
   "source": [
    "#model_class, tokenizer_class, pretrained_weights = (ppb.DistilBertModel, ppb.DistilBertTokenizer, 'distilbert-base-uncased')\n",
    "\n",
    "model_class, tokenizer_class, pretrained_weights = (ppb.BertModel, ppb.BertTokenizer, 'bert-base-uncased')\n",
    "\n",
    "# Загрузка предобученной модели/токенизатора \n",
    "tokenizer = tokenizer_class.from_pretrained(pretrained_weights, add_special_tokens=False)\n",
    "bert_model = model_class.from_pretrained(pretrained_weights)\n",
    "v_size = 768"
   ]
  },
  {
   "cell_type": "code",
   "execution_count": 5,
   "metadata": {
    "execution": {
     "iopub.execute_input": "2021-06-09T10:32:01.911866Z",
     "iopub.status.busy": "2021-06-09T10:32:01.911529Z",
     "iopub.status.idle": "2021-06-09T10:32:02.226516Z",
     "shell.execute_reply": "2021-06-09T10:32:02.225707Z",
     "shell.execute_reply.started": "2021-06-09T10:32:01.911830Z"
    },
    "id": "_rfYsfBWId6e"
   },
   "outputs": [],
   "source": [
    "train_dataset = pd.read_csv('../input/hsemath2020reviews/train.csv')[:10000]\n",
    "train_dataset['text'] = train_dataset['negative'] + '.' + train_dataset['positive']"
   ]
  },
  {
   "cell_type": "code",
   "execution_count": 6,
   "metadata": {
    "execution": {
     "iopub.execute_input": "2021-06-09T10:32:02.228127Z",
     "iopub.status.busy": "2021-06-09T10:32:02.227778Z",
     "iopub.status.idle": "2021-06-09T10:32:02.251038Z",
     "shell.execute_reply": "2021-06-09T10:32:02.249947Z",
     "shell.execute_reply.started": "2021-06-09T10:32:02.228091Z"
    },
    "id": "1KnIgmlM_0Bb",
    "outputId": "37e4bb75-cb39-4556-ac10-883db526c0f4"
   },
   "outputs": [
    {
     "data": {
      "text/html": [
       "<div>\n",
       "<style scoped>\n",
       "    .dataframe tbody tr th:only-of-type {\n",
       "        vertical-align: middle;\n",
       "    }\n",
       "\n",
       "    .dataframe tbody tr th {\n",
       "        vertical-align: top;\n",
       "    }\n",
       "\n",
       "    .dataframe thead th {\n",
       "        text-align: right;\n",
       "    }\n",
       "</style>\n",
       "<table border=\"1\" class=\"dataframe\">\n",
       "  <thead>\n",
       "    <tr style=\"text-align: right;\">\n",
       "      <th></th>\n",
       "      <th>review_id</th>\n",
       "      <th>negative</th>\n",
       "      <th>positive</th>\n",
       "      <th>score</th>\n",
       "      <th>text</th>\n",
       "    </tr>\n",
       "  </thead>\n",
       "  <tbody>\n",
       "    <tr>\n",
       "      <th>0</th>\n",
       "      <td>00003c6036f30f590c0ac435efb8739b</td>\n",
       "      <td>There were issues with the wifi connection</td>\n",
       "      <td>No Positive</td>\n",
       "      <td>7.1</td>\n",
       "      <td>There were issues with the wifi connection.No...</td>\n",
       "    </tr>\n",
       "    <tr>\n",
       "      <th>1</th>\n",
       "      <td>00004d18f186bf2489590dc415876f73</td>\n",
       "      <td>TV not working</td>\n",
       "      <td>No Positive</td>\n",
       "      <td>7.5</td>\n",
       "      <td>TV not working.No Positive</td>\n",
       "    </tr>\n",
       "    <tr>\n",
       "      <th>2</th>\n",
       "      <td>0000cf900cbb8667fad33a717e9b1cf4</td>\n",
       "      <td>More pillows</td>\n",
       "      <td>Beautiful room Great location Lovely staff</td>\n",
       "      <td>10.0</td>\n",
       "      <td>More pillows. Beautiful room Great location L...</td>\n",
       "    </tr>\n",
       "    <tr>\n",
       "      <th>3</th>\n",
       "      <td>0000df16edf19e7ad9dd8c5cd6f6925e</td>\n",
       "      <td>Very business</td>\n",
       "      <td>Location</td>\n",
       "      <td>5.4</td>\n",
       "      <td>Very business. Location</td>\n",
       "    </tr>\n",
       "    <tr>\n",
       "      <th>4</th>\n",
       "      <td>00025e1aa3ac32edb496db49e76bbd00</td>\n",
       "      <td>Rooms could do with a bit of a refurbishment ...</td>\n",
       "      <td>Nice breakfast handy for Victoria train stati...</td>\n",
       "      <td>6.7</td>\n",
       "      <td>Rooms could do with a bit of a refurbishment ...</td>\n",
       "    </tr>\n",
       "    <tr>\n",
       "      <th>...</th>\n",
       "      <td>...</td>\n",
       "      <td>...</td>\n",
       "      <td>...</td>\n",
       "      <td>...</td>\n",
       "      <td>...</td>\n",
       "    </tr>\n",
       "    <tr>\n",
       "      <th>9995</th>\n",
       "      <td>1a141afc633613754cd15e681295a346</td>\n",
       "      <td>Very bad neighbourhood Too noisy especially a...</td>\n",
       "      <td>No Positive</td>\n",
       "      <td>5.0</td>\n",
       "      <td>Very bad neighbourhood Too noisy especially a...</td>\n",
       "    </tr>\n",
       "    <tr>\n",
       "      <th>9996</th>\n",
       "      <td>1a141d0acbce288f4ec9602e030b13f6</td>\n",
       "      <td>No Negative</td>\n",
       "      <td>Very central</td>\n",
       "      <td>8.3</td>\n",
       "      <td>No Negative. Very central</td>\n",
       "    </tr>\n",
       "    <tr>\n",
       "      <th>9997</th>\n",
       "      <td>1a14bc92294d5e2360477b0392a185a8</td>\n",
       "      <td>Lots of drilling work but I was compensated f...</td>\n",
       "      <td>spacious clean rooms</td>\n",
       "      <td>7.9</td>\n",
       "      <td>Lots of drilling work but I was compensated f...</td>\n",
       "    </tr>\n",
       "    <tr>\n",
       "      <th>9998</th>\n",
       "      <td>1a151b1ef98c92a7483a26db805e9252</td>\n",
       "      <td>All of our party 6 adults all agreed that des...</td>\n",
       "      <td>Pleasant modern Hotel with excellent location...</td>\n",
       "      <td>7.1</td>\n",
       "      <td>All of our party 6 adults all agreed that des...</td>\n",
       "    </tr>\n",
       "    <tr>\n",
       "      <th>9999</th>\n",
       "      <td>1a154da19f8ae16b77a5a5f8ce5c076f</td>\n",
       "      <td>We got charged 20 pounds for checking in a co...</td>\n",
       "      <td>Great location 3 minutes away from Ealing Com...</td>\n",
       "      <td>7.5</td>\n",
       "      <td>We got charged 20 pounds for checking in a co...</td>\n",
       "    </tr>\n",
       "  </tbody>\n",
       "</table>\n",
       "<p>10000 rows × 5 columns</p>\n",
       "</div>"
      ],
      "text/plain": [
       "                             review_id  \\\n",
       "0     00003c6036f30f590c0ac435efb8739b   \n",
       "1     00004d18f186bf2489590dc415876f73   \n",
       "2     0000cf900cbb8667fad33a717e9b1cf4   \n",
       "3     0000df16edf19e7ad9dd8c5cd6f6925e   \n",
       "4     00025e1aa3ac32edb496db49e76bbd00   \n",
       "...                                ...   \n",
       "9995  1a141afc633613754cd15e681295a346   \n",
       "9996  1a141d0acbce288f4ec9602e030b13f6   \n",
       "9997  1a14bc92294d5e2360477b0392a185a8   \n",
       "9998  1a151b1ef98c92a7483a26db805e9252   \n",
       "9999  1a154da19f8ae16b77a5a5f8ce5c076f   \n",
       "\n",
       "                                               negative  \\\n",
       "0            There were issues with the wifi connection   \n",
       "1                                        TV not working   \n",
       "2                                          More pillows   \n",
       "3                                         Very business   \n",
       "4      Rooms could do with a bit of a refurbishment ...   \n",
       "...                                                 ...   \n",
       "9995   Very bad neighbourhood Too noisy especially a...   \n",
       "9996                                        No Negative   \n",
       "9997   Lots of drilling work but I was compensated f...   \n",
       "9998   All of our party 6 adults all agreed that des...   \n",
       "9999   We got charged 20 pounds for checking in a co...   \n",
       "\n",
       "                                               positive  score  \\\n",
       "0                                           No Positive    7.1   \n",
       "1                                           No Positive    7.5   \n",
       "2           Beautiful room Great location Lovely staff    10.0   \n",
       "3                                              Location    5.4   \n",
       "4      Nice breakfast handy for Victoria train stati...    6.7   \n",
       "...                                                 ...    ...   \n",
       "9995                                        No Positive    5.0   \n",
       "9996                                      Very central     8.3   \n",
       "9997                               spacious clean rooms    7.9   \n",
       "9998   Pleasant modern Hotel with excellent location...    7.1   \n",
       "9999   Great location 3 minutes away from Ealing Com...    7.5   \n",
       "\n",
       "                                                   text  \n",
       "0      There were issues with the wifi connection.No...  \n",
       "1                            TV not working.No Positive  \n",
       "2      More pillows. Beautiful room Great location L...  \n",
       "3                               Very business. Location  \n",
       "4      Rooms could do with a bit of a refurbishment ...  \n",
       "...                                                 ...  \n",
       "9995   Very bad neighbourhood Too noisy especially a...  \n",
       "9996                         No Negative. Very central   \n",
       "9997   Lots of drilling work but I was compensated f...  \n",
       "9998   All of our party 6 adults all agreed that des...  \n",
       "9999   We got charged 20 pounds for checking in a co...  \n",
       "\n",
       "[10000 rows x 5 columns]"
      ]
     },
     "execution_count": 6,
     "metadata": {},
     "output_type": "execute_result"
    }
   ],
   "source": [
    "train_dataset"
   ]
  },
  {
   "cell_type": "code",
   "execution_count": 7,
   "metadata": {
    "execution": {
     "iopub.execute_input": "2021-06-09T10:32:02.253231Z",
     "iopub.status.busy": "2021-06-09T10:32:02.252815Z",
     "iopub.status.idle": "2021-06-09T10:32:02.286820Z",
     "shell.execute_reply": "2021-06-09T10:32:02.286041Z",
     "shell.execute_reply.started": "2021-06-09T10:32:02.253188Z"
    }
   },
   "outputs": [],
   "source": [
    "train_dataset['len'] = train_dataset['text'].apply(lambda x: len(x.split()))"
   ]
  },
  {
   "cell_type": "code",
   "execution_count": 8,
   "metadata": {
    "execution": {
     "iopub.execute_input": "2021-06-09T10:32:02.289939Z",
     "iopub.status.busy": "2021-06-09T10:32:02.289686Z",
     "iopub.status.idle": "2021-06-09T10:32:02.295686Z",
     "shell.execute_reply": "2021-06-09T10:32:02.294858Z",
     "shell.execute_reply.started": "2021-06-09T10:32:02.289914Z"
    }
   },
   "outputs": [
    {
     "data": {
      "text/plain": [
       "586"
      ]
     },
     "execution_count": 8,
     "metadata": {},
     "output_type": "execute_result"
    }
   ],
   "source": [
    "max(train_dataset['len'])"
   ]
  },
  {
   "cell_type": "code",
   "execution_count": 9,
   "metadata": {
    "execution": {
     "iopub.execute_input": "2021-06-09T10:32:02.298233Z",
     "iopub.status.busy": "2021-06-09T10:32:02.297607Z",
     "iopub.status.idle": "2021-06-09T10:32:02.447343Z",
     "shell.execute_reply": "2021-06-09T10:32:02.446363Z",
     "shell.execute_reply.started": "2021-06-09T10:32:02.298193Z"
    }
   },
   "outputs": [
    {
     "data": {
      "text/plain": [
       "<AxesSubplot:>"
      ]
     },
     "execution_count": 9,
     "metadata": {},
     "output_type": "execute_result"
    },
    {
     "data": {
      "image/png": "[encoded data removed]",
      "text/plain": [
       "<Figure size 432x288 with 1 Axes>"
      ]
     },
     "metadata": {
      "needs_background": "light"
     },
     "output_type": "display_data"
    }
   ],
   "source": [
    "train_dataset['len'].plot()"
   ]
  },
  {
   "cell_type": "code",
   "execution_count": 10,
   "metadata": {
    "execution": {
     "iopub.execute_input": "2021-06-09T10:32:02.449101Z",
     "iopub.status.busy": "2021-06-09T10:32:02.448738Z",
     "iopub.status.idle": "2021-06-09T10:32:02.603467Z",
     "shell.execute_reply": "2021-06-09T10:32:02.602694Z",
     "shell.execute_reply.started": "2021-06-09T10:32:02.449064Z"
    }
   },
   "outputs": [
    {
     "data": {
      "text/plain": [
       "<AxesSubplot:>"
      ]
     },
     "execution_count": 10,
     "metadata": {},
     "output_type": "execute_result"
    },
    {
     "data": {
      "image/png": "[encoded data removed]",
      "text/plain": [
       "<Figure size 432x288 with 1 Axes>"
      ]
     },
     "metadata": {
      "needs_background": "light"
     },
     "output_type": "display_data"
    }
   ],
   "source": [
    "train_dataset['len'].hist()"
   ]
  },
  {
   "cell_type": "code",
   "execution_count": 11,
   "metadata": {
    "execution": {
     "iopub.execute_input": "2021-06-09T10:32:02.605116Z",
     "iopub.status.busy": "2021-06-09T10:32:02.604763Z",
     "iopub.status.idle": "2021-06-09T10:32:02.625881Z",
     "shell.execute_reply": "2021-06-09T10:32:02.624995Z",
     "shell.execute_reply.started": "2021-06-09T10:32:02.605080Z"
    }
   },
   "outputs": [
    {
     "name": "stdout",
     "output_type": "stream",
     "text": [
      "516\n",
      "0.0516\n"
     ]
    }
   ],
   "source": [
    "MAX_LEN = 100\n",
    "print(len(train_dataset[train_dataset['len']>MAX_LEN]))\n",
    "print(len(train_dataset[train_dataset['len']>MAX_LEN])/train_dataset.shape[0])"
   ]
  },
  {
   "cell_type": "code",
   "execution_count": 12,
   "metadata": {
    "execution": {
     "iopub.execute_input": "2021-06-09T10:32:02.627500Z",
     "iopub.status.busy": "2021-06-09T10:32:02.627131Z",
     "iopub.status.idle": "2021-06-09T10:32:02.631350Z",
     "shell.execute_reply": "2021-06-09T10:32:02.630253Z",
     "shell.execute_reply.started": "2021-06-09T10:32:02.627463Z"
    },
    "id": "CEpCFrDTnHDi"
   },
   "outputs": [],
   "source": [
    "#test_set = pd.read_csv('test.csv')"
   ]
  },
  {
   "cell_type": "code",
   "execution_count": 13,
   "metadata": {
    "execution": {
     "iopub.execute_input": "2021-06-09T10:32:02.633438Z",
     "iopub.status.busy": "2021-06-09T10:32:02.632936Z",
     "iopub.status.idle": "2021-06-09T10:32:02.646063Z",
     "shell.execute_reply": "2021-06-09T10:32:02.645126Z",
     "shell.execute_reply.started": "2021-06-09T10:32:02.633400Z"
    },
    "id": "glsMslC9qPCb"
   },
   "outputs": [],
   "source": [
    "train_set, test_set = train_test_split(train_dataset, test_size=0.05)\n",
    "train_set = train_set.reset_index()\n",
    "test_set = test_set.reset_index()"
   ]
  },
  {
   "cell_type": "code",
   "execution_count": 14,
   "metadata": {
    "execution": {
     "iopub.execute_input": "2021-06-09T10:32:02.649308Z",
     "iopub.status.busy": "2021-06-09T10:32:02.649078Z",
     "iopub.status.idle": "2021-06-09T10:32:02.657303Z",
     "shell.execute_reply": "2021-06-09T10:32:02.656314Z",
     "shell.execute_reply.started": "2021-06-09T10:32:02.649286Z"
    },
    "id": "YvFkvO6vmdII"
   },
   "outputs": [],
   "source": [
    "class Dataset(torch.utils.data.Dataset):\n",
    "\n",
    "    def __init__(self, dataset, text_field, target_field):\n",
    "        \n",
    "        # храним сырой датасет\n",
    "        self.dataset = dataset[text_field]\n",
    "        self.length = dataset.shape[0]\n",
    "        # таргеты\n",
    "        self.target = torch.Tensor(dataset[target_field].values)\n",
    "\n",
    "    def __len__(self):\n",
    "        return self.length\n",
    "\n",
    "    def __getitem__(self, index):\n",
    "\n",
    "      #можно не токенизировать на лету, а хранить токены\n",
    "\n",
    "        # в index будут индексы от 0 до self.length\n",
    "        # по ним мы достанем тексты, предобработаем,переведем в вектора, западим и вернем\n",
    "        text = self.dataset[index]\n",
    "        tokens = tokenizer(text, return_tensors='pt', padding='max_length', add_special_tokens=False, max_length=MAX_LEN) # токенизируем\n",
    "        for key in tokens:\n",
    "          tokens[key] = tokens[key][:, :MAX_LEN] #обрезаем\n",
    "\n",
    "\n",
    "        y = self.target[index]\n",
    "\n",
    "        return tokens, y"
   ]
  },
  {
   "cell_type": "code",
   "execution_count": 15,
   "metadata": {
    "execution": {
     "iopub.execute_input": "2021-06-09T10:32:02.659103Z",
     "iopub.status.busy": "2021-06-09T10:32:02.658708Z",
     "iopub.status.idle": "2021-06-09T10:32:02.665585Z",
     "shell.execute_reply": "2021-06-09T10:32:02.664807Z",
     "shell.execute_reply.started": "2021-06-09T10:32:02.659067Z"
    },
    "id": "2P_Wm_xMkVaA"
   },
   "outputs": [],
   "source": [
    "hid_size = 10"
   ]
  },
  {
   "cell_type": "code",
   "execution_count": 16,
   "metadata": {
    "execution": {
     "iopub.execute_input": "2021-06-09T10:32:02.667758Z",
     "iopub.status.busy": "2021-06-09T10:32:02.667510Z",
     "iopub.status.idle": "2021-06-09T10:32:02.676036Z",
     "shell.execute_reply": "2021-06-09T10:32:02.674845Z",
     "shell.execute_reply.started": "2021-06-09T10:32:02.667735Z"
    },
    "id": "60hSRpaCZG2l"
   },
   "outputs": [],
   "source": [
    "def vectorize(tokens):\n",
    "    for key in tokens:\n",
    "    #tokens[key] = torch.squeeze(tokens[key])\n",
    "        if len(tokens[key].size()) > 2:\n",
    "            tokens[key] = torch.reshape(tokens[key], (tokens[key].size()[0], tokens[key].size()[2]))\n",
    "    bert_output = bert_model(**tokens)\n",
    "    output = bert_output[0]#[:,1:,:] \n",
    "    lengths = tokens['attention_mask'].sum(dim=1).to('cpu')\n",
    "    output.to(device)\n",
    "    #output = torch.reshape(output, (output.size()[1], output.size()[0], output.size()[2]))\n",
    "    norm = nn.BatchNorm1d(MAX_LEN)\n",
    "    output = norm(output)\n",
    "    #выкинем вектора которые соответствовали «пустышкам»\n",
    "    output = nn.utils.rnn.pack_padded_sequence(output, lengths, batch_first=True, enforce_sorted=False)\n",
    "    return output"
   ]
  },
  {
   "cell_type": "code",
   "execution_count": 17,
   "metadata": {
    "execution": {
     "iopub.execute_input": "2021-06-09T10:32:02.678039Z",
     "iopub.status.busy": "2021-06-09T10:32:02.677611Z",
     "iopub.status.idle": "2021-06-09T10:32:02.688522Z",
     "shell.execute_reply": "2021-06-09T10:32:02.687515Z",
     "shell.execute_reply.started": "2021-06-09T10:32:02.677944Z"
    },
    "id": "Wi-8hqAUMuw9"
   },
   "outputs": [],
   "source": [
    "class my_nn(nn.Module):\n",
    "    \n",
    "    def __init__(self, embedder):\n",
    "        \n",
    "        super().__init__()          \n",
    "        self.embedding = embedder\n",
    "        self.rnn = nn.LSTM(v_size, hid_size, 2, bidirectional=False, dropout=0, batch_first=True)#, nonlinearity='relu')\n",
    "        self.norm = nn.BatchNorm1d(hid_size)\n",
    "        self.fc = nn.Linear(hid_size, 1) #*2 если двунаправленная\n",
    "        \n",
    "    def forward(self, tokens):\n",
    "        embedded = self.embedding(tokens)\n",
    "        rnn = self.rnn(embedded)[0]\n",
    "        rnn = nn.utils.rnn.pad_packed_sequence(rnn, batch_first=True, padding_value=0.0, total_length=MAX_LEN)\n",
    "        ran = torch.arange(0, rnn[1].size()[0])\n",
    "        rnn_last = rnn[0][ran, rnn[1]-1]\n",
    "        rnn_last = self.norm(rnn_last)\n",
    "        dense_outputs = self.fc(rnn_last)\n",
    "        outputs = dense_outputs\n",
    "        \n",
    "        return outputs"
   ]
  },
  {
   "cell_type": "code",
   "execution_count": 18,
   "metadata": {
    "execution": {
     "iopub.execute_input": "2021-06-09T10:32:02.690277Z",
     "iopub.status.busy": "2021-06-09T10:32:02.689790Z",
     "iopub.status.idle": "2021-06-09T10:32:02.696010Z",
     "shell.execute_reply": "2021-06-09T10:32:02.695160Z",
     "shell.execute_reply.started": "2021-06-09T10:32:02.690238Z"
    }
   },
   "outputs": [],
   "source": [
    "batch_size = 65"
   ]
  },
  {
   "cell_type": "code",
   "execution_count": 19,
   "metadata": {
    "execution": {
     "iopub.execute_input": "2021-06-09T10:32:02.697898Z",
     "iopub.status.busy": "2021-06-09T10:32:02.697517Z",
     "iopub.status.idle": "2021-06-09T10:32:02.708508Z",
     "shell.execute_reply": "2021-06-09T10:32:02.707488Z",
     "shell.execute_reply.started": "2021-06-09T10:32:02.697847Z"
    },
    "id": "CiJ4tgi7Sjp_"
   },
   "outputs": [],
   "source": [
    "def train(model, iterator, optimizer, criterion, print_every=int(train_dataset.shape[0]/batch_size//10)):\n",
    "    \n",
    "    epoch_loss = 0\n",
    "    \n",
    "    model.train()  \n",
    "\n",
    "    for i, (texts, ys) in enumerate(iterator):\n",
    "        optimizer.zero_grad()\n",
    "        predictions = model(texts).squeeze()\n",
    "        loss = criterion(predictions.float(), ys.to(device).float())\n",
    "        loss.backward()     \n",
    "        \n",
    "        optimizer.step()      \n",
    "        \n",
    "        epoch_loss += loss.item()  \n",
    "        \n",
    "        if not (i+1) % print_every:\n",
    "            print(i)\n",
    "            print(f'Loss: {epoch_loss/i}')\n",
    "        \n",
    "    return epoch_loss / len(iterator)\n",
    "\n",
    "\n",
    "def evaluate(model, iterator, criterion):\n",
    "    \n",
    "    epoch_loss = 0\n",
    "    \n",
    "    model.train(False)\n",
    "    model.eval()  \n",
    "    \n",
    "    with torch.no_grad():\n",
    "        for texts, ys in iterator:   \n",
    "\n",
    "            predictions = model(texts).squeeze()\n",
    "            try:\n",
    "                print(predictions[:10])\n",
    "            except:\n",
    "                pass\n",
    "            loss = criterion(predictions.float(), ys.to(device).float())        \n",
    "\n",
    "            epoch_loss += loss.item()  \n",
    "            \n",
    "    return epoch_loss / len(iterator)"
   ]
  },
  {
   "cell_type": "code",
   "execution_count": 20,
   "metadata": {
    "execution": {
     "iopub.execute_input": "2021-06-09T10:32:02.710299Z",
     "iopub.status.busy": "2021-06-09T10:32:02.709890Z",
     "iopub.status.idle": "2021-06-09T10:32:02.972233Z",
     "shell.execute_reply": "2021-06-09T10:32:02.971392Z",
     "shell.execute_reply.started": "2021-06-09T10:32:02.710262Z"
    },
    "id": "BXNH8q5ISjxp"
   },
   "outputs": [],
   "source": [
    "device = torch.device('cuda' if torch.cuda.is_available() else 'cpu')  \n",
    "model = my_nn(vectorize)\n",
    "\n",
    "optimizer = optim.Adam(model.parameters(), lr=0.001)\n",
    "criterion = nn.L1Loss() \n",
    "\n",
    "model = model.to(device)\n",
    "criterion = criterion.to(device)"
   ]
  },
  {
   "cell_type": "code",
   "execution_count": 21,
   "metadata": {
    "execution": {
     "iopub.execute_input": "2021-06-09T10:32:02.973964Z",
     "iopub.status.busy": "2021-06-09T10:32:02.973598Z",
     "iopub.status.idle": "2021-06-09T10:32:02.980244Z",
     "shell.execute_reply": "2021-06-09T10:32:02.978882Z",
     "shell.execute_reply.started": "2021-06-09T10:32:02.973929Z"
    },
    "id": "NaeafPPrSK-P"
   },
   "outputs": [],
   "source": [
    "training_set = Dataset(train_set, 'text', 'score')\n",
    "training_generator = torch.utils.data.DataLoader(training_set, batch_size=batch_size)\n",
    "\n",
    "valid_set = Dataset(test_set, 'text', 'score')\n",
    "valid_generator = torch.utils.data.DataLoader(valid_set, batch_size=batch_size)"
   ]
  },
  {
   "cell_type": "code",
   "execution_count": 22,
   "metadata": {
    "execution": {
     "iopub.execute_input": "2021-06-09T10:32:02.982295Z",
     "iopub.status.busy": "2021-06-09T10:32:02.981921Z",
     "iopub.status.idle": "2021-06-09T10:40:06.821101Z",
     "shell.execute_reply": "2021-06-09T10:40:06.820120Z",
     "shell.execute_reply.started": "2021-06-09T10:32:02.982258Z"
    }
   },
   "outputs": [
    {
     "name": "stdout",
     "output_type": "stream",
     "text": [
      "0\n",
      "14\n",
      "Loss: 8.881585700171334\n",
      "29\n",
      "Loss: 8.608601652342697\n",
      "44\n",
      "Loss: 8.492529240521518\n",
      "59\n",
      "Loss: 8.395235498072738\n",
      "74\n",
      "Loss: 8.348626542735744\n",
      "89\n",
      "Loss: 8.30254634042804\n",
      "104\n",
      "Loss: 8.249076219705435\n",
      "119\n",
      "Loss: 8.20502098067468\n",
      "134\n",
      "Loss: 8.155222914112148\n",
      "tensor([ 0.9408,  0.5981,  1.6559,  0.5529,  1.7553, -0.5120,  2.4787,  0.8919,\n",
      "         1.4414,  0.4179])\n",
      "tensor([0.3129, 2.9545, 0.6614, 0.7465, 1.8871, 2.5282, 1.7901, 1.0463, 0.1570,\n",
      "        0.6412])\n",
      "tensor([-0.7135,  1.7774,  2.4374,  3.8598,  1.5723,  0.5434, -1.2037,  1.1754,\n",
      "         1.6447,  1.7155])\n",
      "tensor([-0.1801,  0.0823,  2.2077,  1.0544,  0.6532, -0.0380,  1.2861,  3.0579,\n",
      "         0.9265,  0.2351])\n",
      "tensor([-0.8166,  0.2011, -0.3839,  2.1403,  0.1963,  0.7960,  2.6188,  1.1950,\n",
      "         0.8100,  0.7458])\n",
      "tensor([3.1288, 1.6604, 2.6699, 1.6143, 0.4923, 0.2537, 2.0979, 0.4340, 0.7020,\n",
      "        0.2693])\n",
      "tensor([ 0.2893, -0.1839,  0.1769,  2.0956, -0.2342, -0.2809,  2.0654,  0.9333,\n",
      "         1.1804,  0.9199])\n",
      "tensor([-0.3847,  1.5273,  2.7684,  3.2120,  2.2459,  1.9916,  2.1717,  0.6548,\n",
      "         0.1674,  0.2835])\n",
      "1\n",
      "14\n",
      "Loss: 8.007512058530535\n",
      "29\n",
      "Loss: 7.712934822871767\n",
      "44\n",
      "Loss: 7.554183255542409\n",
      "59\n",
      "Loss: 7.408534486415022\n",
      "74\n",
      "Loss: 7.310747075725246\n",
      "89\n",
      "Loss: 7.211715366063493\n",
      "104\n",
      "Loss: 7.104258390573355\n",
      "119\n",
      "Loss: 7.005595527777151\n",
      "134\n",
      "Loss: 6.9005884626018466\n",
      "tensor([2.8008, 2.6669, 2.5641, 3.2183, 2.1288, 3.0982, 3.2537, 3.1074, 3.8029,\n",
      "        2.4336])\n",
      "tensor([2.8662, 3.1862, 2.1308, 3.1877, 1.4817, 3.0385, 3.0749, 2.9707, 2.3042,\n",
      "        3.8961])\n",
      "tensor([2.8471, 3.6461, 2.7726, 2.4877, 2.6103, 3.1302, 1.0562, 3.2839, 3.0717,\n",
      "        2.8572])\n",
      "tensor([1.9577, 1.8961, 2.3411, 3.2812, 3.4172, 3.5635, 2.8571, 3.2160, 2.4636,\n",
      "        2.9820])\n",
      "tensor([3.7362, 3.4017, 2.7968, 3.0648, 1.9132, 1.7219, 2.6100, 2.3649, 2.9452,\n",
      "        1.6216])\n",
      "tensor([3.3207, 2.4815, 2.4710, 1.9154, 3.2885, 1.5952, 2.8814, 3.0186, 2.3222,\n",
      "        3.1437])\n",
      "tensor([3.6146, 1.9522, 2.5709, 2.8581, 2.8660, 3.3671, 1.3010, 2.7709, 2.4320,\n",
      "        3.6915])\n",
      "tensor([1.8477, 3.1272, 2.9943, 2.7632, 2.8860, 2.5752, 3.6620, 2.7747, 2.6302,\n",
      "        2.3351])\n",
      "2\n",
      "14\n",
      "Loss: 5.975989239556449\n",
      "29\n",
      "Loss: 5.693318991825499\n",
      "44\n",
      "Loss: 5.500149282542142\n",
      "59\n",
      "Loss: 5.309940847299867\n",
      "74\n",
      "Loss: 5.165962161244573\n",
      "89\n",
      "Loss: 5.015496066447055\n",
      "104\n",
      "Loss: 4.858965383126185\n",
      "119\n",
      "Loss: 4.710847423858001\n",
      "134\n",
      "Loss: 4.558785724995741\n",
      "tensor([6.4718, 7.2337, 4.9142, 6.9851, 6.0343, 6.6838, 3.8737, 4.7561, 7.0302,\n",
      "        5.7711])\n",
      "tensor([6.8207, 5.9152, 6.2268, 7.3566, 5.5989, 7.1556, 6.1771, 4.3998, 5.2458,\n",
      "        5.1087])\n",
      "tensor([5.7377, 7.3727, 6.1908, 6.0974, 5.8323, 7.9606, 4.8393, 6.5212, 6.6137,\n",
      "        6.2940])\n",
      "tensor([4.8943, 5.1286, 4.2112, 6.2077, 5.3835, 6.6570, 6.0012, 6.9090, 7.4475,\n",
      "        6.2242])\n",
      "tensor([6.6135, 6.0948, 6.6406, 6.4271, 6.1865, 6.9370, 7.3411, 4.8431, 6.9424,\n",
      "        6.9648])\n",
      "tensor([6.9159, 5.9689, 4.6870, 7.0183, 6.5026, 4.7441, 7.0038, 6.1854, 6.3249,\n",
      "        6.8967])\n",
      "tensor([7.3741, 4.8980, 6.7966, 6.3966, 6.8681, 6.0945, 6.4467, 6.0500, 5.9547,\n",
      "        7.3362])\n",
      "tensor([6.3524, 7.0259, 7.1885, 6.2616, 6.8159, 5.2854, 7.4180, 6.7893, 6.5471,\n",
      "        3.6530])\n",
      "3\n",
      "14\n",
      "Loss: 2.9356071097510203\n",
      "29\n",
      "Loss: 2.7257329266646813\n",
      "44\n",
      "Loss: 2.5543407147580925\n",
      "59\n",
      "Loss: 2.4017775826534984\n",
      "74\n",
      "Loss: 2.268227433836138\n",
      "89\n",
      "Loss: 2.1463624212179293\n",
      "104\n",
      "Loss: 2.029362346117313\n",
      "119\n",
      "Loss: 1.932388349741447\n",
      "134\n",
      "Loss: 1.8462990807063544\n",
      "tensor([9.1808, 8.2860, 7.7446, 9.1423, 9.1016, 8.8876, 5.3837, 7.8343, 9.1242,\n",
      "        8.5333])\n",
      "tensor([9.7734, 7.5973, 8.7093, 8.8273, 7.7886, 8.7531, 7.9069, 8.1648, 7.6851,\n",
      "        8.0215])\n",
      "tensor([8.0873, 9.5200, 9.1782, 8.2969, 7.8525, 8.6480, 8.1129, 7.8515, 9.1511,\n",
      "        8.0990])\n",
      "tensor([8.1487, 5.9854, 8.5585, 7.9262, 9.0584, 8.3936, 8.9999, 9.7159, 9.5114,\n",
      "        8.4406])\n",
      "tensor([7.3157, 8.0445, 9.1346, 8.3711, 9.5086, 9.7067, 9.6097, 7.8100, 8.0100,\n",
      "        8.2402])\n",
      "tensor([9.4156, 6.9640, 7.7206, 9.5495, 8.6391, 6.1542, 9.2111, 7.4709, 8.0066,\n",
      "        7.9621])\n",
      "tensor([7.8423, 8.1508, 9.0398, 8.2382, 8.1598, 7.2304, 9.8242, 8.3140, 8.7982,\n",
      "        9.6343])\n",
      "tensor([9.1958, 9.2347, 8.9805, 9.8081, 9.1522, 8.1669, 9.5038, 9.0716, 8.9973,\n",
      "        5.3729])\n",
      "4\n",
      "14\n",
      "Loss: 1.1304353262696947\n",
      "29\n",
      "Loss: 1.0784288583130672\n",
      "44\n",
      "Loss: 1.0508091205900365\n",
      "59\n",
      "Loss: 1.0504107343948494\n",
      "74\n",
      "Loss: 1.0391794064560451\n",
      "89\n",
      "Loss: 1.0291986043533583\n",
      "104\n",
      "Loss: 1.0194255583561385\n",
      "119\n",
      "Loss: 1.0174469416882812\n",
      "134\n",
      "Loss: 1.0142089270833712\n",
      "tensor([9.8928, 8.4181, 8.3197, 9.9370, 9.8271, 9.3934, 6.0384, 8.4663, 8.8935,\n",
      "        9.2108])\n",
      "tensor([10.1510,  8.1186,  9.8654,  9.3391,  8.3395,  9.2191,  7.8711,  8.9676,\n",
      "         7.0424,  8.9053])\n",
      "tensor([8.1477, 9.9576, 9.2932, 9.2126, 8.2353, 9.1344, 7.6779, 8.2028, 9.9546,\n",
      "        7.9492])\n",
      "tensor([9.0473, 6.5288, 9.5024, 8.3863, 9.9040, 8.2670, 9.6741, 9.8830, 9.9689,\n",
      "        9.4242])\n",
      "tensor([8.2652, 8.1633, 9.3309, 9.0107, 9.9454, 9.9836, 9.9040, 7.6375, 8.2643,\n",
      "        8.4702])\n",
      "tensor([9.6400, 7.7660, 8.0174, 9.4984, 8.1504, 7.1968, 9.7452, 7.1131, 8.6590,\n",
      "        8.4526])\n",
      "tensor([8.4702, 9.0525, 9.3842, 8.8992, 8.6406, 7.2983, 9.4905, 9.6716, 9.5779,\n",
      "        9.8832])\n",
      "tensor([ 9.5836,  9.7714,  9.3799, 10.0416,  9.9085,  9.5808,  9.8249,  8.2119,\n",
      "         9.6682,  5.9657])\n",
      "CPU times: user 8min, sys: 513 ms, total: 8min 1s\n",
      "Wall time: 8min 3s\n"
     ]
    }
   ],
   "source": [
    "%%time\n",
    "loss = []\n",
    "loss_eval = []\n",
    "epochs = 5\n",
    "for i in range(epochs):\n",
    "    print(i)\n",
    "    loss.append(train(model, training_generator, optimizer, criterion))\n",
    "    loss_eval.append(evaluate(model, valid_generator, criterion))"
   ]
  },
  {
   "cell_type": "code",
   "execution_count": 23,
   "metadata": {
    "execution": {
     "iopub.execute_input": "2021-06-09T10:40:06.822975Z",
     "iopub.status.busy": "2021-06-09T10:40:06.822488Z",
     "iopub.status.idle": "2021-06-09T10:40:06.829498Z",
     "shell.execute_reply": "2021-06-09T10:40:06.828440Z",
     "shell.execute_reply.started": "2021-06-09T10:40:06.822931Z"
    }
   },
   "outputs": [
    {
     "data": {
      "text/plain": [
       "[7.193577766418457,\n",
       " 5.659352004528046,\n",
       " 2.4857378602027893,\n",
       " 1.0568245351314545,\n",
       " 1.0370071530342102]"
      ]
     },
     "execution_count": 23,
     "metadata": {},
     "output_type": "execute_result"
    }
   ],
   "source": [
    "loss_eval"
   ]
  }
 ],
 "metadata": {
  "kernelspec": {
   "display_name": "Python 3",
   "language": "python",
   "name": "python3"
  },
  "language_info": {
   "codemirror_mode": {
    "name": "ipython",
    "version": 3
   },
   "file_extension": ".py",
   "mimetype": "text/x-python",
   "name": "python",
   "nbconvert_exporter": "python",
   "pygments_lexer": "ipython3",
   "version": "3.7.6"
  }
 },
 "nbformat": 4,
 "nbformat_minor": 4
}
